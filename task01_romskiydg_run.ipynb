{
 "cells": [
  {
   "cell_type": "code",
   "execution_count": 2,
   "metadata": {},
   "outputs": [],
   "source": [
    "%load_ext pycodestyle_magic"
   ]
  },
  {
   "cell_type": "code",
   "execution_count": 3,
   "metadata": {},
   "outputs": [],
   "source": [
    "%pycodestyle_on"
   ]
  },
  {
   "cell_type": "code",
   "execution_count": 10,
   "metadata": {},
   "outputs": [
    {
     "name": "stdout",
     "output_type": "stream",
     "text": [
      "(404, 13) (404,) (102, 13) (102,)\n"
     ]
    }
   ],
   "source": [
    "import numpy as np\n",
    "import itertools\n",
    "from sklearn.datasets import load_boston\n",
    "from sklearn.model_selection import train_test_split\n",
    "from task01_romskiydg_model import ElasticNetRegressor\n",
    "from sklearn.metrics import r2_score\n",
    "\n",
    "\n",
    "X, y = load_boston(return_X_y=True)\n",
    "trainX, testX, trainY, testY = train_test_split(X, y, random_state=42,\n",
    "                                                test_size=0.2)\n",
    "print(trainX.shape, trainY.shape, testX.shape, testY.shape)"
   ]
  },
  {
   "cell_type": "markdown",
   "metadata": {},
   "source": [
    "В будущем можно добавить совместимость с GridSearchCV, для удобства поиска параметров"
   ]
  },
  {
   "cell_type": "code",
   "execution_count": 13,
   "metadata": {},
   "outputs": [],
   "source": [
    "trainX_1 = trainX[::4]\n",
    "trainX_2 = trainX[1::4]\n",
    "trainX_3 = trainX[2::4]\n",
    "trainX_4 = trainX[3::4]\n",
    "trainY_1 = trainY[::4]\n",
    "trainY_2 = trainY[1::4]\n",
    "trainY_3 = trainY[2::4]\n",
    "trainY_4 = trainY[3::4]\n",
    "trainX_csv = np.empty((4, 303, 13))\n",
    "trainY_csv = np.empty((4, 303))\n",
    "testX_csv = np.empty((4, 101, 13))\n",
    "testY_csv = np.empty((4, 101))\n",
    "\n",
    "trainX_csv[0] = np.vstack((trainX_1, trainX_2, trainX_3))\n",
    "testX_csv[0] = trainX_4\n",
    "trainY_csv[0] = np.hstack((trainY_1, trainY_2, trainY_3))\n",
    "testY_csv[0] = trainY_4\n",
    "\n",
    "trainX_csv[1] = np.vstack((trainX_1, trainX_2, trainX_4))\n",
    "testX_csv[1] = trainX_3\n",
    "trainY_csv[1] = np.hstack((trainY_1, trainY_2, trainY_4))\n",
    "testY_csv[1] = trainY_3\n",
    "\n",
    "trainX_csv[2] = np.vstack((trainX_1, trainX_4, trainX_3))\n",
    "testX_csv[2] = trainX_2\n",
    "trainY_csv[2] = np.hstack((trainY_1, trainY_4, trainY_3))\n",
    "testY_csv[2] = trainY_2\n",
    "\n",
    "trainX_csv[3] = np.vstack((trainX_4, trainX_2, trainX_3))\n",
    "testX_csv[3] = trainX_1\n",
    "trainY_csv[3] = np.hstack((trainY_4, trainY_2, trainY_3))\n",
    "testY_csv[3] = trainY_1"
   ]
  },
  {
   "cell_type": "code",
   "execution_count": 12,
   "metadata": {},
   "outputs": [
    {
     "name": "stdout",
     "output_type": "stream",
     "text": [
      "0.6261625419030828 0.6681313423183404\n",
      "(2000, 0.001, 0.01, 10)\n"
     ]
    }
   ],
   "source": [
    "sets_for_iterating = [\n",
    "    [1000, 2000],\n",
    "    [0.001, 0.0001],\n",
    "    [0.01, 0.001],\n",
    "    [5, 10]\n",
    "]\n",
    "best_score = 5.\n",
    "for element in itertools.product(*sets_for_iterating):\n",
    "    score = 0\n",
    "    for i in range(4):\n",
    "        csv_regressor = ElasticNetRegressor(n_epoch=element[0],\n",
    "                                            alpha=element[1],\n",
    "                                            delta=element[2],\n",
    "                                            batch_size=element[3])\n",
    "        csv_regressor.fit(trainX_csv[i], trainY_csv[i])\n",
    "        prediction = csv_regressor.predict(testX_csv[i])\n",
    "        score += csv_regressor.score(testY_csv[i], prediction)\n",
    "    if score > best_score or best_score == 5.:\n",
    "        best_score = score\n",
    "        best_param = element\n",
    "\n",
    "my_regressor = ElasticNetRegressor(n_epoch=best_param[0],\n",
    "                                   alpha=best_param[1],\n",
    "                                   delta=best_param[2],\n",
    "                                   batch_size=best_param[3])\n",
    "my_regressor.fit(trainX, trainY)\n",
    "prediction = my_regressor.predict(testX)\n",
    "R2_score = my_regressor.score(testY, prediction)\n",
    "print(R2_score, best_score/4)\n",
    "print(best_param)"
   ]
  },
  {
   "cell_type": "code",
   "execution_count": null,
   "metadata": {},
   "outputs": [],
   "source": []
  }
 ],
 "metadata": {
  "kernelspec": {
   "display_name": "Python 3",
   "language": "python",
   "name": "python3"
  },
  "language_info": {
   "codemirror_mode": {
    "name": "ipython",
    "version": 3
   },
   "file_extension": ".py",
   "mimetype": "text/x-python",
   "name": "python",
   "nbconvert_exporter": "python",
   "pygments_lexer": "ipython3",
   "version": "3.8.6"
  }
 },
 "nbformat": 4,
 "nbformat_minor": 4
}
